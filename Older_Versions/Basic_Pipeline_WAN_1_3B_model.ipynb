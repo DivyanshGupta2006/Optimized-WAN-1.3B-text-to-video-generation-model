{
 "cells": [
  {
   "cell_type": "code",
   "execution_count": null,
   "metadata": {},
   "outputs": [],
   "source": [
    "!pip install --upgrade diffusers transformers ftfy accelerate torch torchvision"
   ]
  },
  {
   "cell_type": "code",
   "execution_count": null,
   "metadata": {},
   "outputs": [],
   "source": [
    "import torch\n",
    "import numpy as np\n",
    "from PIL import Image\n",
    "from diffusers import DiffusionPipeline\n",
    "from diffusers.utils import export_to_video"
   ]
  },
  {
   "cell_type": "code",
   "execution_count": null,
   "metadata": {},
   "outputs": [],
   "source": [
    "torch.cuda.is_available(), torch.cuda.get_device_name(0)"
   ]
  },
  {
   "cell_type": "code",
   "execution_count": null,
   "metadata": {},
   "outputs": [],
   "source": [
    "pipe = DiffusionPipeline.from_pretrained(\"Wan-AI/Wan2.1-T2V-1.3B-Diffusers\", device_map=\"balanced\")"
   ]
  },
  {
   "cell_type": "code",
   "execution_count": null,
   "metadata": {},
   "outputs": [],
   "source": [
    "def generate_video(pipe, prompt, negative_prompt=\"Blurry, unrealistic, shaky\", height = 480, width = 832, frames = 5, fps = 1, output_path = \"video.mp4\"):\n",
    "    output = pipe(prompt, negative_prompt=negative_prompt, height=height, width=width, num_frames=frames, guidance_scale=5.0)\n",
    "    video = output.frames\n",
    "    if isinstance(video, np.ndarray):\n",
    "        video = np.squeeze(video)\n",
    "        video = (video * 255).clip(0, 255).astype(\"uint8\")\n",
    "    else:\n",
    "        raise TypeError(\"Unexpected output format from pipeline\")\n",
    "    frames = [Image.fromarray(frame) for frame in video]\n",
    "    export_to_video(frames, output_path, fps=fps)"
   ]
  },
  {
   "cell_type": "code",
   "execution_count": null,
   "metadata": {},
   "outputs": [],
   "source": [
    "prompt = \"Satoru Gojo\"\n",
    "negative_prompt = \"Bright tones, overexposed, static, blurred details, subtitles, style, works, paintings, images, static, overall gray, worst quality, low quality, JPEG compression residue, ugly, incomplete, extra fingers, poorly drawn hands, poorly drawn faces, deformed, disfigured, misshapen limbs, fused fingers, still picture, messy background, three legs, many people in the background, walking backwards\""
   ]
  },
  {
   "cell_type": "code",
   "execution_count": null,
   "metadata": {},
   "outputs": [],
   "source": [
    "generate_video(pipe, prompt, negative_prompt)"
   ]
  }
 ],
 "metadata": {
  "language_info": {
   "name": "python"
  }
 },
 "nbformat": 4,
 "nbformat_minor": 0
}
